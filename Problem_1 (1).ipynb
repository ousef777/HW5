{
  "nbformat": 4,
  "nbformat_minor": 0,
  "metadata": {
    "colab": {
      "provenance": []
    },
    "kernelspec": {
      "name": "python3",
      "display_name": "Python 3"
    },
    "language_info": {
      "name": "python"
    },
    "accelerator": "TPU"
  },
  "cells": [
    {
      "cell_type": "code",
      "source": [
        "import torch\n",
        "import torch.nn as nn\n",
        "import torch.nn.functional as F\n",
        "import torchvision\n",
        "import torchvision.transforms as transforms"
      ],
      "metadata": {
        "id": "U7GQIlAEUEB7"
      },
      "execution_count": 2,
      "outputs": []
    },
    {
      "cell_type": "code",
      "source": [
        "from google.colab import drive\n",
        "drive.mount('/content/drive/')"
      ],
      "metadata": {
        "colab": {
          "base_uri": "https://localhost:8080/"
        },
        "id": "wqcPLMeNSea9",
        "outputId": "2e1792ef-6225-4cc4-c6a1-c6b4ab90118f"
      },
      "execution_count": 3,
      "outputs": [
        {
          "output_type": "stream",
          "name": "stdout",
          "text": [
            "Mounted at /content/drive/\n"
          ]
        }
      ]
    },
    {
      "cell_type": "code",
      "source": [
        "%matplotlib inline\n",
        "import matplotlib.pyplot as plt\n",
        "import numpy as np\n",
        "import torch\n",
        "torch.set_printoptions(edgeitems=2, linewidth=75)"
      ],
      "metadata": {
        "id": "Xa6i0NEudDJ_"
      },
      "execution_count": 4,
      "outputs": []
    },
    {
      "cell_type": "code",
      "execution_count": 5,
      "metadata": {
        "id": "0KDVUqitREpi",
        "colab": {
          "base_uri": "https://localhost:8080/",
          "height": 489
        },
        "outputId": "d5e9ba35-11c8-489d-ae7b-31353ffaf581"
      },
      "outputs": [
        {
          "output_type": "execute_result",
          "data": {
            "text/plain": [
              "Text(0.5, 1.0, 'Temperature')"
            ]
          },
          "metadata": {},
          "execution_count": 5
        },
        {
          "output_type": "display_data",
          "data": {
            "text/plain": [
              "<Figure size 640x480 with 1 Axes>"
            ],
            "image/png": "[encoded data removed]"
          },
          "metadata": {}
        }
      ],
      "source": [
        "t_c = [0.5, 14.0, 15.0, 28.0, 11.0, 8.0, 3.0, -4.0, 6.0, 13.0, 21.0]\n",
        "t_u = [35.7, 55.9, 58.2, 81.9, 56.3, 48.9, 33.9, 21.8, 48.4, 60.4, 68.4]\n",
        "t_c = torch.tensor(t_c)\n",
        "t_u = torch.tensor(t_u)\n",
        "t_un = t_u * 0.1\n",
        "\n",
        "plt.scatter(t_u,t_c, color='red',marker= '+')\n",
        "plt.grid()\n",
        "plt.xlabel('t_u')\n",
        "plt.ylabel('t_c')\n",
        "plt.title('Temperature')"
      ]
    },
    {
      "cell_type": "code",
      "source": [
        "def model(t_u, w1, w2, b):\n",
        "  return w2 * t_u ** 2 + w1 * t_u + b"
      ],
      "metadata": {
        "id": "7qtoL-AqUq2i"
      },
      "execution_count": 6,
      "outputs": []
    },
    {
      "cell_type": "code",
      "source": [
        "def loss_fn(t_p, t_c):\n",
        "  squared_diffs = (t_p - t_c)**2\n",
        "  return squared_diffs.mean()"
      ],
      "metadata": {
        "id": "7NczxT8XU9XZ"
      },
      "execution_count": 7,
      "outputs": []
    },
    {
      "cell_type": "code",
      "source": [
        "import torch.optim as optim\n",
        "\n",
        "params = torch.tensor([1.0, 1.0, 0.0], requires_grad=True)\n",
        "learning_rate = 1e-5\n",
        "optimizer = optim.SGD([params], lr=learning_rate)\n",
        "\n",
        "t_p = model(t_u, *params)\n",
        "loss = loss_fn(t_p, t_c)\n",
        "loss.backward()\n",
        "optimizer.step()\n",
        "params"
      ],
      "metadata": {
        "colab": {
          "base_uri": "https://localhost:8080/"
        },
        "id": "x3hOfKCcWXNL",
        "outputId": "65dfe976-66a4-4907-a41d-99a390c08957"
      },
      "execution_count": 8,
      "outputs": [
        {
          "output_type": "execute_result",
          "data": {
            "text/plain": [
              "tensor([-2.6181e+00, -2.3049e+02, -5.9642e-02], requires_grad=True)"
            ]
          },
          "metadata": {},
          "execution_count": 8
        }
      ]
    },
    {
      "cell_type": "code",
      "source": [
        "params = torch.tensor([1.0, 1.0, 0.0], requires_grad=True)\n",
        "learning_rate = 1e-2\n",
        "optimizer = optim.SGD([params], lr=learning_rate)\n",
        "\n",
        "t_p = model(t_un, *params)\n",
        "loss = loss_fn(t_p, t_c)\n",
        "\n",
        "optimizer.zero_grad() # <1>\n",
        "loss.backward()\n",
        "optimizer.step()\n",
        "\n",
        "params"
      ],
      "metadata": {
        "colab": {
          "base_uri": "https://localhost:8080/"
        },
        "id": "IvnK8d9zciXO",
        "outputId": "6d8dbdd1-0952-4bbe-b4d6-b18009c999e3"
      },
      "execution_count": 9,
      "outputs": [
        {
          "output_type": "execute_result",
          "data": {
            "text/plain": [
              "tensor([ -1.7968, -16.3953,  -0.4818], requires_grad=True)"
            ]
          },
          "metadata": {},
          "execution_count": 9
        }
      ]
    },
    {
      "cell_type": "code",
      "source": [
        "def training_loop(n_epochs, optimizer, params, t_u, t_c):\n",
        "    for epoch in range(1, n_epochs + 1):\n",
        "        t_p = model(t_u, *params)\n",
        "        loss = loss_fn(t_p, t_c)\n",
        "\n",
        "        optimizer.zero_grad()\n",
        "        loss.backward()\n",
        "        optimizer.step()\n",
        "\n",
        "        if epoch % 500 == 0:\n",
        "            print('Epoch %d, Loss %f' % (epoch, float(loss)))\n",
        "\n",
        "    return params"
      ],
      "metadata": {
        "id": "beE5r_syrjlo"
      },
      "execution_count": 10,
      "outputs": []
    },
    {
      "cell_type": "markdown",
      "source": [
        "SGD"
      ],
      "metadata": {
        "id": "vLIye74B3Cx_"
      }
    },
    {
      "cell_type": "code",
      "source": [
        "params = torch.tensor([1.0, 1.0, 0.0], requires_grad=True)\n",
        "learning_rate = 8e-4\n",
        "optimizer = optim.SGD([params], lr=learning_rate) # <1>\n",
        "print(learning_rate)\n",
        "params = training_loop(\n",
        "    n_epochs = 5000,\n",
        "    optimizer = optimizer,\n",
        "    params = params, # <1>\n",
        "    t_u = t_un,\n",
        "    t_c = t_c)\n",
        "\n",
        "t_p = model(t_un, *params)\n",
        "plt.scatter(t_u,t_c, color='red',marker= '+')\n",
        "plt.scatter(t_u,t_p.detach().numpy(), color='blue',marker= '+')\n",
        "plt.grid()\n",
        "plt.xlabel('Measurements')\n",
        "plt.ylabel('temp celius')\n",
        "plt.title('Temperature')"
      ],
      "metadata": {
        "colab": {
          "base_uri": "https://localhost:8080/",
          "height": 680
        },
        "id": "bO9QbFx9rku-",
        "outputId": "cac1c404-33a5-43fc-be87-1078c256dfb0"
      },
      "execution_count": 11,
      "outputs": [
        {
          "output_type": "stream",
          "name": "stdout",
          "text": [
            "0.0008\n",
            "Epoch 500, Loss 4.195781\n",
            "Epoch 1000, Loss 3.548735\n",
            "Epoch 1500, Loss 3.478307\n",
            "Epoch 2000, Loss 3.446147\n",
            "Epoch 2500, Loss 3.417074\n",
            "Epoch 3000, Loss 3.388778\n",
            "Epoch 3500, Loss 3.361097\n",
            "Epoch 4000, Loss 3.334007\n",
            "Epoch 4500, Loss 3.307492\n",
            "Epoch 5000, Loss 3.281543\n"
          ]
        },
        {
          "output_type": "execute_result",
          "data": {
            "text/plain": [
              "Text(0.5, 1.0, 'Temperature')"
            ]
          },
          "metadata": {},
          "execution_count": 11
        },
        {
          "output_type": "display_data",
          "data": {
            "text/plain": [
              "<Figure size 640x480 with 1 Axes>"
            ],
            "image/png": "[encoded data removed]"
          },
          "metadata": {}
        }
      ]
    },
    {
      "cell_type": "markdown",
      "source": [
        "ADAM"
      ],
      "metadata": {
        "id": "at0UrEmBsNft"
      }
    },
    {
      "cell_type": "code",
      "source": [
        "params = torch.tensor([1.0, 1.0, 0.0], requires_grad=True)\n",
        "learning_rate = 5e-1\n",
        "optimizer = optim.Adam([params], lr=learning_rate) # <1>\n",
        "print(learning_rate)\n",
        "training_loop(\n",
        "    n_epochs = 5000,\n",
        "    optimizer = optimizer,\n",
        "    params = params,\n",
        "    t_u = t_u, # <2>\n",
        "    t_c = t_c)"
      ],
      "metadata": {
        "colab": {
          "base_uri": "https://localhost:8080/"
        },
        "id": "OU0NTyFzrpaG",
        "outputId": "d98336d8-ad06-4846-c2a5-3bcce9905ab4"
      },
      "execution_count": 22,
      "outputs": [
        {
          "output_type": "stream",
          "name": "stdout",
          "text": [
            "0.5\n",
            "Epoch 500, Loss 3.470972\n",
            "Epoch 1000, Loss 3.369133\n",
            "Epoch 1500, Loss 3.289435\n",
            "Epoch 2000, Loss 3.187369\n",
            "Epoch 2500, Loss 3.064371\n",
            "Epoch 3000, Loss 2.923462\n",
            "Epoch 3500, Loss 2.792620\n",
            "Epoch 4000, Loss 3.522834\n",
            "Epoch 4500, Loss 29.497511\n",
            "Epoch 5000, Loss 2.513976\n"
          ]
        },
        {
          "output_type": "execute_result",
          "data": {
            "text/plain": [
              "tensor([ 4.3812e-02,  4.6928e-03, -5.4357e+00], requires_grad=True)"
            ]
          },
          "metadata": {},
          "execution_count": 22
        }
      ]
    }
  ]
}